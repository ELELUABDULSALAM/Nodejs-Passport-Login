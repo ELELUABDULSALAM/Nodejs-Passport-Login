{
  "nbformat": 4,
  "nbformat_minor": 0,
  "metadata": {
    "colab": {
      "name": "Untitled3.ipynb",
      "provenance": [],
      "collapsed_sections": [],
      "authorship_tag": "ABX9TyOAuD56ychxBqjBtGivb5Jb",
      "include_colab_link": true
    },
    "kernelspec": {
      "name": "python3",
      "display_name": "Python 3"
    }
  },
  "cells": [
    {
      "cell_type": "markdown",
      "metadata": {
        "id": "view-in-github",
        "colab_type": "text"
      },
      "source": [
        "<a href=\"https://colab.research.google.com/github/ELELUABDULSALAM/Nodejs-Passport-Login/blob/master/Weather-web-scraping.ipynb\" target=\"_parent\"><img src=\"https://colab.research.google.com/assets/colab-badge.svg\" alt=\"Open In Colab\"/></a>"
      ]
    },
    {
      "cell_type": "code",
      "metadata": {
        "id": "Arvy1Tx6TXfv"
      },
      "source": [
        "import requests\n",
        "from bs4 import BeautifulSoup as bs\n",
        "import csv\n",
        "\n",
        "url=\"https://www.weather-forecast.com/locations/Agra/forecasts/latest\"\n",
        "r=requests.get(url)"
      ],
      "execution_count": 1,
      "outputs": []
    },
    {
      "cell_type": "code",
      "metadata": {
        "id": "ag9F1rjET7eT"
      },
      "source": [
        "forecast = bs(r.content, \"lxml\")\n",
        "\n",
        "wthr=forecast.findAll(\"div\",{\"class\": \"b-forecast__table-days-name\"})\n",
        "# print(wthr)\n",
        "for i in range(12):\n",
        "    wthr[i].text"
      ],
      "execution_count": 2,
      "outputs": []
    },
    {
      "cell_type": "code",
      "metadata": {
        "id": "BOI2-qCyWB6B"
      },
      "source": [
        "wthr1=forecast.findAll(\"div\",{\"class\": \"b-forecast__table-days-date\"})\n",
        "# print(wthr1)\n",
        "for i in range(12):\n",
        "    wthr1[i].text"
      ],
      "execution_count": 3,
      "outputs": []
    },
    {
      "cell_type": "code",
      "metadata": {
        "id": "ugAwMqVAWz_N"
      },
      "source": [
        "whtr2=forecast.find(\"tr\", {\"class\":\"b-forecast__table-humidity\"})\n",
        "# print(whtr2)"
      ],
      "execution_count": 4,
      "outputs": []
    },
    {
      "cell_type": "code",
      "metadata": {
        "id": "OnarFX8FW5pe"
      },
      "source": [
        "mywhtr2=whtr2.findAll(\"span\",{\"class\": \"b-forecast__table-value\"})\n",
        "# print(mywhtr2)\n",
        "for i in range(1,36):\n",
        "    mywhtr2[i].text"
      ],
      "execution_count": 5,
      "outputs": []
    },
    {
      "cell_type": "code",
      "metadata": {
        "id": "ZXvklBrAXG6H"
      },
      "source": [
        "whtr3=forecast.find(\"tr\", {\"class\":\"b-forecast__table-max-temperature\"})\n",
        "# print(whtr3)\n",
        "mywhtr3=whtr3.findAll(\"span\",{\"class\": \"temp b-forecast__table-value\"})\n",
        "# print(mywhtr3)\n",
        "for i in range(1,36):\n",
        "    mywhtr3[i].text"
      ],
      "execution_count": 6,
      "outputs": []
    },
    {
      "cell_type": "code",
      "metadata": {
        "id": "IPG1YtcdXbuD"
      },
      "source": [
        "whtr4=forecast.find(\"tr\", {\"class\":\"b-forecast__table-min-temperature\"})\n",
        "# print(whtr4)\n",
        "mywhtr4=whtr4.findAll(\"span\",{\"class\": \"temp b-forecast__table-value\"})\n",
        "# print(mywhtr4)\n",
        "for i in range(1,36):\n",
        "    mywhtr4[i].text"
      ],
      "execution_count": 7,
      "outputs": []
    },
    {
      "cell_type": "code",
      "metadata": {
        "colab": {
          "base_uri": "https://localhost:8080/"
        },
        "id": "ZuFHlk03Xmxa",
        "outputId": "44df45c5-9b38-4638-f761-f0d0e2de9c60"
      },
      "source": [
        "with open(\"Weather_Forecasting_Report.csv\", mode=\"w\") as csv_file:\n",
        "    fieldnames=['Days_Name', 'Days_Date','Humidity \\n [Am,Pm,Night]','Max_Temp \\n [Am,Pm,Night]','Min_Temp \\n [Am,Pm,Night]']\n",
        "    writer=csv.DictWriter(csv_file,fieldnames=fieldnames)\n",
        "    writer.writeheader()\n",
        "    print(writer)\n",
        "\n",
        "    for (i,y) in zip(range(12), range(12)):\n",
        "         writer.writerow({'Days_Name':str(wthr[i].text),'Days_Date':str(wthr1[i].text),'Humidity \\n [Am,Pm,Night]':[str(mywhtr2[y].text),str(mywhtr2[y+1].text),str(mywhtr2[y+2].text)],'Max_Temp \\n [Am,Pm,Night]':[str(mywhtr3[y].text),str(mywhtr3[y+1].text),str(mywhtr3[y+2].text)],'Min_Temp \\n [Am,Pm,Night]':[str(mywhtr4[y].text),str(mywhtr4[y+1].text),str(mywhtr4[y+2].text)]})\n",
        "\n",
        "\n",
        "    # for i in range(12):\n",
        "    #   writer.writerow({'Days_Name':str(wthr[i].text), 'Days_Date': str(wthr1[i].text)})"
      ],
      "execution_count": 9,
      "outputs": [
        {
          "output_type": "stream",
          "text": [
            "<csv.DictWriter object at 0x7fbeb485e2e8>\n"
          ],
          "name": "stdout"
        }
      ]
    }
  ]
}